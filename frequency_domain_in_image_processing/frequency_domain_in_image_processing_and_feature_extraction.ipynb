{
 "cells": [
  {
   "cell_type": "markdown",
   "metadata": {},
   "source": [
    "<h1 align=\"center\">Frequency Domain in Image Processing and Feature Extraction</h1>\n",
    "<h3 align=\"right\">Linjian Li</h3>\n",
    "<h3 align=\"right\">2019-03-28</h3>"
   ]
  },
  {
   "cell_type": "markdown",
   "metadata": {},
   "source": [
    "<img src=\"Fourier_transform_time_and_frequency_domains.gif\">"
   ]
  },
  {
   "cell_type": "markdown",
   "metadata": {},
   "source": [
    "---\n",
    "图像频率是表征图像**灰度变化剧烈程度**的指标，是灰度在平面空间上的梯度。灰度变化缓慢/剧烈，则灰度的梯度小/大，则对应频率低/高。因此，高频部分通常对应图像中的边缘、噪声。\n",
    "\n",
    "不同频率信息在图像结构中有不同的作用。图像的主要成分是低频信息，它形成了图像的基本灰度等级，对图像结构的决定作用较小；中频信息决定了图像的基本结构，形成了图像的主要边缘结构；高频信息形成了图像的边缘和细节，是在中频信息上对图像内容的进一步强化。"
   ]
  },
  {
   "cell_type": "markdown",
   "metadata": {},
   "source": [
    "## Several efficient feature extration using frequecny domain transforms\n",
    "\n",
    "* Discrete Fourier Transform\n",
    "* Discrete Gabor Transform\n",
    "* Discrete Cosine Transform\n",
    "  * used in JPEG image compression\n",
    "  * 2D DCT based features are sensitive to changes in the illumination direction (Conrad, Kuldip, 2003)\n",
    "* Discrete Wavelet Transform\n",
    "* etc  "
   ]
  },
  {
   "cell_type": "markdown",
   "metadata": {},
   "source": [
    "---\n",
    "## How to do FFT on an image?\n",
    "\n",
    "The recipe for calculating the Fourier transform of an image is quite simple: **take the one-dimensional FFT of each of the rows, followed by the one-dimensional FFT of each of the columns**. Specifically, start by taking the FFT of the N pixel values in row 0 of the real array. The real part of the FFT's output is placed back into row 0 of the real array, while the imaginary part of the FFT's output is placed into row 0 of the imaginary array. After repeating this procedure on rows 1 through N-1, both the real and imaginary arrays contain an intermediate image. Next, the procedure is repeated on each of the columns of the intermediate data. Take the N pixel values from column 0 of the real array, and the N pixel values from column 0 of the imaginary array, and calculate the FFT. The real part of the FFT's output is placed back into column 0 of the real array, while the imaginary part of the FFT's output is placed back into column 0 of the imaginary array. After this is repeated on columns 1 through N-1, both arrays have been overwritten with the image's frequency spectrum.\n",
    "\n",
    "Since the vertical and horizontal directions are equivalent in an image, this algorithm can also be carried out by transforming the columns first and then transforming the rows. Regardless of the order used, the result is the same. From the way that the FFT keeps track of the data, the amplitudes of the low frequency components end up being at the corners of the two-dimensional spectrum, while the high frequencies are at the center. The inverse Fourier transform of an image is calculated by taking the inverse FFT of each row, followed by the inverse FFT of each column (or vice versa).\n",
    "\n",
    "https://blog.csdn.net/viatorsun/article/details/82387854"
   ]
  },
  {
   "cell_type": "markdown",
   "metadata": {},
   "source": [
    "## DFT\n",
    "\n",
    "In the Fourier domain image, each point represents a particular frequency contained in the spatial domain image.\n",
    "\n",
    "The Discrete Fourier Transform (DFT) is the sampled Fourier Transform and therefore does not contain all frequencies forming an image, but only a set of samples which is large enough to fully describe the spatial domain image.\n",
    "\n",
    "$$G(u,v) = \\frac{1}{MN} \\sum_{m=0}^{M-1} \\sum_{n=0}^{N-1} g(m,n) exp\\big(-j2\\pi(\\frac{mu}{M}+\\frac{nv}{N})\\big)$$\n",
    "\n",
    "where $g(m,n)$ is the image in the spatial domain and the exponential term is the basis function corresponding to each point G(u,v) in the Fourier space.\n",
    "\n",
    "The value of each point G(u,v) is obtained by multiplying the spatial image with the corresponding base function and summing the result.\n",
    "\n",
    "\n",
    "Unfortunately, the arrangement of the 2D Fourier transform places the **low frequency components at the corners** of the transform. A spatial transform is easier to visualize if the DC component is in the center with frequency increasing towards the edge of the image. This can be arranged either by rotating each of the four quadrants in the Fourier transform by 180$^\\circ$, or by reordering the original image to give a transform which shifts or translates the transform to the center. This is done using **fftshift**. This is aimed to improve visualization and does not change any of the frequency domain information; changes only the way it is displayed. In face recognition, low frequency coefficients have the most important information which decrease as we move away from center of the translated Fourier spectrum of face image.\n",
    "\n",
    "[Manikantan, K., & Ramachandran, S. (2012). DFT domain Feature Extraction using Edge-based Scale Normalization for Enhanced Face Recognition. Journal of Advanced Computer Science and Technology, 1(3), 134-166.]"
   ]
  },
  {
   "cell_type": "markdown",
   "metadata": {},
   "source": [
    "---\n",
    "## The best explanation I have seen\n",
    "\n",
    "### An Intuitive Explanation of Fourier Theory\n",
    "\n",
    "http://web.archive.org/web/20130513181427id_/http://sharp.bu.edu/~slehar/fourier/fourier.html"
   ]
  },
  {
   "cell_type": "markdown",
   "metadata": {},
   "source": [
    "---\n",
    "https://www.princeton.edu/~cuff/ele201/kulkarni_text/frequency.pdf\n"
   ]
  },
  {
   "cell_type": "markdown",
   "metadata": {},
   "source": [
    "---\n",
    "空域技术无论点操作还是模板操作，每次都是基于图像中的部分像素，而频域技术每次都是利用图像中所有像素数据，图像频谱具有全局性质，有可能更好的体现图像的整体特性\n",
    "\n",
    "https://blog.csdn.net/weixin_41484240/article/details/81318998"
   ]
  },
  {
   "cell_type": "markdown",
   "metadata": {},
   "source": [
    "---\n",
    "https://www.dspguide.com/ch24/5.htm"
   ]
  },
  {
   "cell_type": "markdown",
   "metadata": {},
   "source": [
    "---\n",
    "Images are 2 dimensional functions f(x,y) in spatial coordinates (x,y) in an image plane. For example, an RGB image can be regarded as a matrix of function values, $f(x,y)=(R_{xy},G_{xy},B_{xy})$."
   ]
  },
  {
   "cell_type": "markdown",
   "metadata": {},
   "source": [
    "---\n",
    "Some processes performed on an image in the spatial domain may be very computationally expensive. These same processes may be significantly easier to perform after transforming an image to a different domain. These transformations are the basis for many image filters, applied to remove noise, to sharpen, or extract features. Domain transformations also provide additional information about an image and can offer compression benefits.\n",
    "\n",
    "http://northstar-www.dartmouth.edu/doc/idl/html_6.2/Overview_of_Transforming_Between_Image_Domains.html"
   ]
  },
  {
   "cell_type": "markdown",
   "metadata": {},
   "source": [
    "---\n",
    "# 其他想法\n",
    "\n",
    "如果能够了解到具体哪个部位与AD高度相关，就可以用加权的方法，把关键部位的权值设置高一些，这样能提高训练效果。\n",
    "\n",
    "如果没法确认到底哪个地方和AD相关，那就把深度学习当成一个black-box，大量数据和标签丢进去训练。\n",
    "\n",
    "## 频域特征提取能对我们的项目所做的事情有更好的提升吗？\n",
    "\n",
    "如果一定要想一个**可能**的理由，我觉得可能是：AD导致的脑结构的病变**可能**会在MRI图像的很多地方体现出来，而频域图像的一个像素点对应的特征是**整个**空域图像的某一个特征。所以有可能频域图像能够更好的发现这种**分散在多处的有一定规律的**病变特征。（注：这只是我的猜想，不一定是客观事实）\n",
    "\n",
    "在人脸识别领域，空域图像数据有很多information redundancy，频域特征提取能够减少这些redundancy。"
   ]
  }
 ],
 "metadata": {
  "kernelspec": {
   "display_name": "Python 3",
   "language": "python",
   "name": "python3"
  },
  "language_info": {
   "codemirror_mode": {
    "name": "ipython",
    "version": 3
   },
   "file_extension": ".py",
   "mimetype": "text/x-python",
   "name": "python",
   "nbconvert_exporter": "python",
   "pygments_lexer": "ipython3",
   "version": "3.7.0"
  }
 },
 "nbformat": 4,
 "nbformat_minor": 2
}
